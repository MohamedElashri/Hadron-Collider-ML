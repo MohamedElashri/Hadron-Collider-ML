{
 "cells": [
  {
   "cell_type": "markdown",
   "metadata": {},
   "source": [
    "# About\n",
    "\n",
    "In this programming assignment you will train a classifier to identify type of a particle. There are six particle types: electron, proton, muon, kaon, pion and ghost. Ghost is a particle with other type than the first five or a detector noise. \n",
    "\n",
    "Different particle types remain different responses in the detector systems or subdetectors. Thre are five systems: tracking system, ring imaging Cherenkov detector (RICH), electromagnetic and hadron calorimeters, and muon system.\n",
    "\n",
    "![pid](pic/pid.jpg)\n",
    "\n",
    "You task is to identify a particle type using the responses in the detector systems. \n",
    "\n",
    "# Attention\n",
    "\n",
    "Data files you should download from https://github.com/hse-aml/hadron-collider-machine-learning/releases/tag/Week_2"
   ]
  },
  {
   "cell_type": "code",
   "execution_count": 1,
   "metadata": {},
   "outputs": [],
   "source": [
    "%matplotlib inline\n",
    "import matplotlib.pyplot as plt\n",
    "import pandas\n",
    "import numpy\n",
    "from sklearn.model_selection import train_test_split\n",
    "from sklearn.metrics import log_loss\n",
    "import utils"
   ]
  },
  {
   "cell_type": "markdown",
   "metadata": {},
   "source": [
    "# Download data\n",
    "\n",
    "Download data used to train classifiers."
   ]
  },
  {
   "cell_type": "markdown",
   "metadata": {},
   "source": [
    "### Read training file"
   ]
  },
  {
   "cell_type": "code",
   "execution_count": 2,
   "metadata": {},
   "outputs": [],
   "source": [
    "data = pandas.read_csv('training.csv.gz')"
   ]
  },
  {
   "cell_type": "code",
   "execution_count": 3,
   "metadata": {},
   "outputs": [
    {
     "data": {
      "text/html": [
       "<div>\n",
       "<style scoped>\n",
       "    .dataframe tbody tr th:only-of-type {\n",
       "        vertical-align: middle;\n",
       "    }\n",
       "\n",
       "    .dataframe tbody tr th {\n",
       "        vertical-align: top;\n",
       "    }\n",
       "\n",
       "    .dataframe thead th {\n",
       "        text-align: right;\n",
       "    }\n",
       "</style>\n",
       "<table border=\"1\" class=\"dataframe\">\n",
       "  <thead>\n",
       "    <tr style=\"text-align: right;\">\n",
       "      <th></th>\n",
       "      <th>TrackP</th>\n",
       "      <th>TrackNDoFSubdetector2</th>\n",
       "      <th>BremDLLbeElectron</th>\n",
       "      <th>MuonLooseFlag</th>\n",
       "      <th>FlagSpd</th>\n",
       "      <th>SpdE</th>\n",
       "      <th>EcalDLLbeElectron</th>\n",
       "      <th>DLLmuon</th>\n",
       "      <th>RICHpFlagElectron</th>\n",
       "      <th>EcalDLLbeMuon</th>\n",
       "      <th>...</th>\n",
       "      <th>TrackNDoF</th>\n",
       "      <th>RICHpFlagMuon</th>\n",
       "      <th>RICH_DLLbeKaon</th>\n",
       "      <th>RICH_DLLbeElectron</th>\n",
       "      <th>HcalE</th>\n",
       "      <th>MuonFlag</th>\n",
       "      <th>FlagMuon</th>\n",
       "      <th>PrsE</th>\n",
       "      <th>RICH_DLLbeMuon</th>\n",
       "      <th>RICH_DLLbeProton</th>\n",
       "    </tr>\n",
       "  </thead>\n",
       "  <tbody>\n",
       "    <tr>\n",
       "      <th>0</th>\n",
       "      <td>74791.156263</td>\n",
       "      <td>15.0</td>\n",
       "      <td>0.232275</td>\n",
       "      <td>1.0</td>\n",
       "      <td>1.0</td>\n",
       "      <td>3.2</td>\n",
       "      <td>-2.505719</td>\n",
       "      <td>6.604153</td>\n",
       "      <td>1.0</td>\n",
       "      <td>1.929960</td>\n",
       "      <td>...</td>\n",
       "      <td>28.0</td>\n",
       "      <td>1.0</td>\n",
       "      <td>-7.213300</td>\n",
       "      <td>-0.280200</td>\n",
       "      <td>5586.589846</td>\n",
       "      <td>1.0</td>\n",
       "      <td>1.0</td>\n",
       "      <td>10.422315</td>\n",
       "      <td>-2.081143e-07</td>\n",
       "      <td>-24.824400</td>\n",
       "    </tr>\n",
       "    <tr>\n",
       "      <th>1</th>\n",
       "      <td>2738.489989</td>\n",
       "      <td>15.0</td>\n",
       "      <td>-0.357748</td>\n",
       "      <td>0.0</td>\n",
       "      <td>1.0</td>\n",
       "      <td>3.2</td>\n",
       "      <td>1.864351</td>\n",
       "      <td>0.263651</td>\n",
       "      <td>1.0</td>\n",
       "      <td>-2.061959</td>\n",
       "      <td>...</td>\n",
       "      <td>32.0</td>\n",
       "      <td>1.0</td>\n",
       "      <td>-0.324317</td>\n",
       "      <td>1.707283</td>\n",
       "      <td>-0.000007</td>\n",
       "      <td>0.0</td>\n",
       "      <td>1.0</td>\n",
       "      <td>43.334935</td>\n",
       "      <td>2.771583e+00</td>\n",
       "      <td>-0.648017</td>\n",
       "    </tr>\n",
       "    <tr>\n",
       "      <th>2</th>\n",
       "      <td>2161.409908</td>\n",
       "      <td>17.0</td>\n",
       "      <td>-999.000000</td>\n",
       "      <td>0.0</td>\n",
       "      <td>0.0</td>\n",
       "      <td>-999.0</td>\n",
       "      <td>-999.000000</td>\n",
       "      <td>-999.000000</td>\n",
       "      <td>0.0</td>\n",
       "      <td>-999.000000</td>\n",
       "      <td>...</td>\n",
       "      <td>27.0</td>\n",
       "      <td>0.0</td>\n",
       "      <td>-999.000000</td>\n",
       "      <td>-999.000000</td>\n",
       "      <td>-999.000000</td>\n",
       "      <td>0.0</td>\n",
       "      <td>0.0</td>\n",
       "      <td>-999.000000</td>\n",
       "      <td>-9.990000e+02</td>\n",
       "      <td>-999.000000</td>\n",
       "    </tr>\n",
       "    <tr>\n",
       "      <th>3</th>\n",
       "      <td>15277.730490</td>\n",
       "      <td>20.0</td>\n",
       "      <td>-0.638984</td>\n",
       "      <td>0.0</td>\n",
       "      <td>1.0</td>\n",
       "      <td>3.2</td>\n",
       "      <td>-2.533918</td>\n",
       "      <td>-8.724949</td>\n",
       "      <td>1.0</td>\n",
       "      <td>-3.253981</td>\n",
       "      <td>...</td>\n",
       "      <td>36.0</td>\n",
       "      <td>1.0</td>\n",
       "      <td>-35.202221</td>\n",
       "      <td>-14.742319</td>\n",
       "      <td>4482.803707</td>\n",
       "      <td>0.0</td>\n",
       "      <td>1.0</td>\n",
       "      <td>2.194175</td>\n",
       "      <td>-3.070819e+00</td>\n",
       "      <td>-29.291519</td>\n",
       "    </tr>\n",
       "    <tr>\n",
       "      <th>4</th>\n",
       "      <td>7563.700195</td>\n",
       "      <td>19.0</td>\n",
       "      <td>-0.638962</td>\n",
       "      <td>0.0</td>\n",
       "      <td>1.0</td>\n",
       "      <td>3.2</td>\n",
       "      <td>-2.087146</td>\n",
       "      <td>-7.060422</td>\n",
       "      <td>1.0</td>\n",
       "      <td>-0.995816</td>\n",
       "      <td>...</td>\n",
       "      <td>33.0</td>\n",
       "      <td>1.0</td>\n",
       "      <td>25.084287</td>\n",
       "      <td>-10.272412</td>\n",
       "      <td>5107.554680</td>\n",
       "      <td>0.0</td>\n",
       "      <td>1.0</td>\n",
       "      <td>0.000015</td>\n",
       "      <td>-5.373712e+00</td>\n",
       "      <td>23.653087</td>\n",
       "    </tr>\n",
       "  </tbody>\n",
       "</table>\n",
       "<p>5 rows × 50 columns</p>\n",
       "</div>"
      ],
      "text/plain": [
       "         TrackP  TrackNDoFSubdetector2  BremDLLbeElectron  MuonLooseFlag  \\\n",
       "0  74791.156263                   15.0           0.232275            1.0   \n",
       "1   2738.489989                   15.0          -0.357748            0.0   \n",
       "2   2161.409908                   17.0        -999.000000            0.0   \n",
       "3  15277.730490                   20.0          -0.638984            0.0   \n",
       "4   7563.700195                   19.0          -0.638962            0.0   \n",
       "\n",
       "   FlagSpd   SpdE  EcalDLLbeElectron     DLLmuon  RICHpFlagElectron  \\\n",
       "0      1.0    3.2          -2.505719    6.604153                1.0   \n",
       "1      1.0    3.2           1.864351    0.263651                1.0   \n",
       "2      0.0 -999.0        -999.000000 -999.000000                0.0   \n",
       "3      1.0    3.2          -2.533918   -8.724949                1.0   \n",
       "4      1.0    3.2          -2.087146   -7.060422                1.0   \n",
       "\n",
       "   EcalDLLbeMuon        ...         TrackNDoF  RICHpFlagMuon  RICH_DLLbeKaon  \\\n",
       "0       1.929960        ...              28.0            1.0       -7.213300   \n",
       "1      -2.061959        ...              32.0            1.0       -0.324317   \n",
       "2    -999.000000        ...              27.0            0.0     -999.000000   \n",
       "3      -3.253981        ...              36.0            1.0      -35.202221   \n",
       "4      -0.995816        ...              33.0            1.0       25.084287   \n",
       "\n",
       "   RICH_DLLbeElectron        HcalE  MuonFlag  FlagMuon        PrsE  \\\n",
       "0           -0.280200  5586.589846       1.0       1.0   10.422315   \n",
       "1            1.707283    -0.000007       0.0       1.0   43.334935   \n",
       "2         -999.000000  -999.000000       0.0       0.0 -999.000000   \n",
       "3          -14.742319  4482.803707       0.0       1.0    2.194175   \n",
       "4          -10.272412  5107.554680       0.0       1.0    0.000015   \n",
       "\n",
       "   RICH_DLLbeMuon  RICH_DLLbeProton  \n",
       "0   -2.081143e-07        -24.824400  \n",
       "1    2.771583e+00         -0.648017  \n",
       "2   -9.990000e+02       -999.000000  \n",
       "3   -3.070819e+00        -29.291519  \n",
       "4   -5.373712e+00         23.653087  \n",
       "\n",
       "[5 rows x 50 columns]"
      ]
     },
     "execution_count": 3,
     "metadata": {},
     "output_type": "execute_result"
    }
   ],
   "source": [
    "data.head()"
   ]
  },
  {
   "cell_type": "markdown",
   "metadata": {},
   "source": [
    "### List of columns in the samples"
   ]
  },
  {
   "cell_type": "markdown",
   "metadata": {},
   "source": [
    "Here, **Spd** stands for Scintillating Pad Detector, **Prs** - Preshower, **Ecal** - electromagnetic calorimeter, **Hcal** - hadronic calorimeter, **Brem** denotes traces of the particles that were deflected by detector."
   ]
  },
  {
   "cell_type": "markdown",
   "metadata": {},
   "source": [
    "- ID - id value for tracks (presents only in the test file for the submitting purposes)\n",
    "- Label - string valued observable denoting particle types. Can take values \"Electron\", \"Muon\", \"Kaon\", \"Proton\", \"Pion\" and \"Ghost\". This column is absent in the test file.\n",
    "- FlagSpd - flag (0 or 1), if reconstructed track passes through Spd\n",
    "- FlagPrs - flag (0 or 1), if reconstructed track passes through Prs\n",
    "- FlagBrem - flag (0 or 1), if reconstructed track passes through Brem\n",
    "- FlagEcal - flag (0 or 1), if reconstructed track passes through Ecal\n",
    "- FlagHcal - flag (0 or 1), if reconstructed track passes through Hcal\n",
    "- FlagRICH1 - flag (0 or 1), if reconstructed track passes through the first RICH detector\n",
    "- FlagRICH2 - flag (0 or 1), if reconstructed track passes through the second RICH detector\n",
    "- FlagMuon - flag (0 or 1), if reconstructed track passes through muon stations (Muon)\n",
    "- SpdE - energy deposit associated to the track in the Spd\n",
    "- PrsE - energy deposit associated to the track in the Prs\n",
    "- EcalE - energy deposit associated to the track in the Hcal\n",
    "- HcalE - energy deposit associated to the track in the Hcal\n",
    "- PrsDLLbeElectron - delta log-likelihood for a particle candidate to be electron using information from Prs\n",
    "- BremDLLbeElectron - delta log-likelihood for a particle candidate to be electron using information from Brem\n",
    "- TrackP - particle momentum\n",
    "- TrackPt - particle transverse momentum\n",
    "- TrackNDoFSubdetector1  - number of degrees of freedom for track fit using hits in the tracking sub-detector1\n",
    "- TrackQualitySubdetector1 - chi2 quality of the track fit using hits in the tracking sub-detector1\n",
    "- TrackNDoFSubdetector2 - number of degrees of freedom for track fit using hits in the tracking sub-detector2\n",
    "- TrackQualitySubdetector2 - chi2 quality of the track fit using hits in the  tracking sub-detector2\n",
    "- TrackNDoF - number of degrees of freedom for track fit using hits in all tracking sub-detectors\n",
    "- TrackQualityPerNDoF - chi2 quality of the track fit per degree of freedom\n",
    "- TrackDistanceToZ - distance between track and z-axis (beam axis)\n",
    "- Calo2dFitQuality - quality of the 2d fit of the clusters in the calorimeter \n",
    "- Calo3dFitQuality - quality of the 3d fit in the calorimeter with assumption that particle was electron\n",
    "- EcalDLLbeElectron - delta log-likelihood for a particle candidate to be electron using information from Ecal\n",
    "- EcalDLLbeMuon - delta log-likelihood for a particle candidate to be muon using information from Ecal\n",
    "- EcalShowerLongitudinalParameter - longitudinal parameter of Ecal shower\n",
    "- HcalDLLbeElectron - delta log-likelihood for a particle candidate to be electron using information from Hcal\n",
    "- HcalDLLbeMuon - delta log-likelihood for a particle candidate to be using information from Hcal\n",
    "- RICHpFlagElectron - flag (0 or 1) if momentum is greater than threshold for electrons to produce Cherenkov light\n",
    "- RICHpFlagProton - flag (0 or 1) if momentum is greater than threshold for protons to produce Cherenkov light\n",
    "- RICHpFlagPion - flag (0 or 1) if momentum is greater than threshold for pions to produce Cherenkov light\n",
    "- RICHpFlagKaon - flag (0 or 1) if momentum is greater than threshold for kaons to produce Cherenkov light\n",
    "- RICHpFlagMuon - flag (0 or 1) if momentum is greater than threshold for muons to produce Cherenkov light\n",
    "- RICH_DLLbeBCK  - delta log-likelihood for a particle candidate to be background using information from RICH\n",
    "- RICH_DLLbeKaon - delta log-likelihood for a particle candidate to be kaon using information from RICH\n",
    "- RICH_DLLbeElectron - delta log-likelihood for a particle candidate to be electron using information from RICH\n",
    "- RICH_DLLbeMuon - delta log-likelihood for a particle candidate to be muon using information from RICH\n",
    "- RICH_DLLbeProton - delta log-likelihood for a particle candidate to be proton using information from RICH\n",
    "- MuonFlag - muon flag (is this track muon) which is determined from muon stations\n",
    "- MuonLooseFlag muon flag (is this track muon) which is determined from muon stations using looser criteria\n",
    "- MuonLLbeBCK - log-likelihood for a particle candidate to be not muon using information from muon stations\n",
    "- MuonLLbeMuon - log-likelihood for a particle candidate to be muon using information from muon stations\n",
    "- DLLelectron - delta log-likelihood for a particle candidate to be electron using information from all subdetectors\n",
    "- DLLmuon - delta log-likelihood for a particle candidate to be muon using information from all subdetectors\n",
    "- DLLkaon - delta log-likelihood for a particle candidate to be kaon using information from all subdetectors\n",
    "- DLLproton - delta log-likelihood for a particle candidate to be proton using information from all subdetectors\n",
    "- GhostProbability - probability for a particle candidate to be ghost track. This variable is an output of classification model used in the tracking algorithm."
   ]
  },
  {
   "cell_type": "markdown",
   "metadata": {},
   "source": [
    "Delta log-likelihood in the features descriptions means the difference between log-likelihood for the mass hypothesis that a given track is left by some particle (for example, electron) and log-likelihood for the mass hypothesis that a given track is left by a pion (so, DLLpion = 0 and thus we don't have these columns). This is done since most tracks (~80%) are left by pions and in practice we actually need to discriminate other particles from pions. In other words, the null hypothesis is that particle is a pion."
   ]
  },
  {
   "cell_type": "markdown",
   "metadata": {},
   "source": [
    "### Look at the labels set\n",
    "\n",
    "The training data contains six classes. Each class corresponds to a particle type. Your task is to predict type of a particle."
   ]
  },
  {
   "cell_type": "code",
   "execution_count": 4,
   "metadata": {},
   "outputs": [
    {
     "data": {
      "text/plain": [
       "{'Electron', 'Ghost', 'Kaon', 'Muon', 'Pion', 'Proton'}"
      ]
     },
     "execution_count": 4,
     "metadata": {},
     "output_type": "execute_result"
    }
   ],
   "source": [
    "set(data.Label)"
   ]
  },
  {
   "cell_type": "markdown",
   "metadata": {},
   "source": [
    "Convert the particle types into class numbers."
   ]
  },
  {
   "cell_type": "code",
   "execution_count": 5,
   "metadata": {},
   "outputs": [
    {
     "data": {
      "text/plain": [
       "{0, 1, 2, 3, 4, 5}"
      ]
     },
     "execution_count": 5,
     "metadata": {},
     "output_type": "execute_result"
    }
   ],
   "source": [
    "data['Class'] = utils.get_class_ids(data.Label.values)\n",
    "set(data.Class)"
   ]
  },
  {
   "cell_type": "markdown",
   "metadata": {},
   "source": [
    "### Define training features\n",
    "\n",
    "The following set of features describe particle responses in the detector systems:\n",
    "\n",
    "![features](pic/features.jpeg)\n",
    "\n",
    "Also there are several combined features. The full list is following."
   ]
  },
  {
   "cell_type": "code",
   "execution_count": 6,
   "metadata": {},
   "outputs": [
    {
     "data": {
      "text/plain": [
       "['TrackNDoF',\n",
       " 'HcalE',\n",
       " 'MuonFlag',\n",
       " 'DLLkaon',\n",
       " 'FlagBrem',\n",
       " 'RICH_DLLbeMuon',\n",
       " 'TrackQualitySubdetector2',\n",
       " 'FlagHcal',\n",
       " 'RICH_DLLbeElectron',\n",
       " 'SpdE',\n",
       " 'TrackPt',\n",
       " 'EcalDLLbeMuon',\n",
       " 'RICHpFlagMuon',\n",
       " 'Calo2dFitQuality',\n",
       " 'HcalDLLbeElectron',\n",
       " 'PrsE',\n",
       " 'TrackNDoFSubdetector2',\n",
       " 'MuonLooseFlag',\n",
       " 'FlagSpd',\n",
       " 'MuonLLbeMuon',\n",
       " 'FlagRICH2',\n",
       " 'RICH_DLLbeProton',\n",
       " 'DLLmuon',\n",
       " 'RICHpFlagElectron',\n",
       " 'TrackDistanceToZ',\n",
       " 'Calo3dFitQuality',\n",
       " 'RICH_DLLbeBCK',\n",
       " 'RICHpFlagKaon',\n",
       " 'DLLproton',\n",
       " 'RICHpFlagProton',\n",
       " 'HcalDLLbeMuon',\n",
       " 'MuonLLbeBCK',\n",
       " 'FlagPrs',\n",
       " 'RICHpFlagPion',\n",
       " 'DLLelectron',\n",
       " 'EcalDLLbeElectron',\n",
       " 'RICH_DLLbeKaon',\n",
       " 'EcalShowerLongitudinalParameter',\n",
       " 'PrsDLLbeElectron',\n",
       " 'GhostProbability',\n",
       " 'TrackQualityPerNDoF',\n",
       " 'TrackP',\n",
       " 'FlagMuon',\n",
       " 'TrackNDoFSubdetector1',\n",
       " 'FlagEcal',\n",
       " 'FlagRICH1',\n",
       " 'BremDLLbeElectron',\n",
       " 'TrackQualitySubdetector1',\n",
       " 'EcalE']"
      ]
     },
     "execution_count": 6,
     "metadata": {},
     "output_type": "execute_result"
    }
   ],
   "source": [
    "features = list(set(data.columns) - {'Label', 'Class'})\n",
    "features"
   ]
  },
  {
   "cell_type": "markdown",
   "metadata": {},
   "source": [
    "### Divide training data into 2 parts"
   ]
  },
  {
   "cell_type": "code",
   "execution_count": 7,
   "metadata": {},
   "outputs": [],
   "source": [
    "training_data, validation_data = train_test_split(data, random_state=11, train_size=0.90, test_size=0.10)"
   ]
  },
  {
   "cell_type": "code",
   "execution_count": 8,
   "metadata": {},
   "outputs": [
    {
     "data": {
      "text/plain": [
       "(1080000, 120000)"
      ]
     },
     "execution_count": 8,
     "metadata": {},
     "output_type": "execute_result"
    }
   ],
   "source": [
    "len(training_data), len(validation_data)"
   ]
  },
  {
   "cell_type": "code",
   "execution_count": 9,
   "metadata": {},
   "outputs": [
    {
     "data": {
      "text/html": [
       "<div>\n",
       "<style scoped>\n",
       "    .dataframe tbody tr th:only-of-type {\n",
       "        vertical-align: middle;\n",
       "    }\n",
       "\n",
       "    .dataframe tbody tr th {\n",
       "        vertical-align: top;\n",
       "    }\n",
       "\n",
       "    .dataframe thead th {\n",
       "        text-align: right;\n",
       "    }\n",
       "</style>\n",
       "<table border=\"1\" class=\"dataframe\">\n",
       "  <thead>\n",
       "    <tr style=\"text-align: right;\">\n",
       "      <th></th>\n",
       "      <th>TrackP</th>\n",
       "      <th>TrackNDoFSubdetector2</th>\n",
       "      <th>BremDLLbeElectron</th>\n",
       "      <th>MuonLooseFlag</th>\n",
       "      <th>FlagSpd</th>\n",
       "      <th>SpdE</th>\n",
       "      <th>EcalDLLbeElectron</th>\n",
       "      <th>DLLmuon</th>\n",
       "      <th>RICHpFlagElectron</th>\n",
       "      <th>EcalDLLbeMuon</th>\n",
       "      <th>...</th>\n",
       "      <th>RICHpFlagMuon</th>\n",
       "      <th>RICH_DLLbeKaon</th>\n",
       "      <th>RICH_DLLbeElectron</th>\n",
       "      <th>HcalE</th>\n",
       "      <th>MuonFlag</th>\n",
       "      <th>FlagMuon</th>\n",
       "      <th>PrsE</th>\n",
       "      <th>RICH_DLLbeMuon</th>\n",
       "      <th>RICH_DLLbeProton</th>\n",
       "      <th>Class</th>\n",
       "    </tr>\n",
       "  </thead>\n",
       "  <tbody>\n",
       "    <tr>\n",
       "      <th>968874</th>\n",
       "      <td>12192.330089</td>\n",
       "      <td>17.0</td>\n",
       "      <td>-0.170024</td>\n",
       "      <td>0.0</td>\n",
       "      <td>1.0</td>\n",
       "      <td>0.0</td>\n",
       "      <td>-1.831868</td>\n",
       "      <td>-0.996012</td>\n",
       "      <td>1.0</td>\n",
       "      <td>5.017775e-01</td>\n",
       "      <td>...</td>\n",
       "      <td>1.0</td>\n",
       "      <td>-19.783108</td>\n",
       "      <td>-6.720408</td>\n",
       "      <td>1914.190913</td>\n",
       "      <td>1.0</td>\n",
       "      <td>1.0</td>\n",
       "      <td>1.967353e-06</td>\n",
       "      <td>-2.804208</td>\n",
       "      <td>-25.041909</td>\n",
       "      <td>1</td>\n",
       "    </tr>\n",
       "    <tr>\n",
       "      <th>912808</th>\n",
       "      <td>40379.488299</td>\n",
       "      <td>7.0</td>\n",
       "      <td>-999.000000</td>\n",
       "      <td>0.0</td>\n",
       "      <td>0.0</td>\n",
       "      <td>-999.0</td>\n",
       "      <td>-999.000000</td>\n",
       "      <td>-0.792678</td>\n",
       "      <td>1.0</td>\n",
       "      <td>-9.990000e+02</td>\n",
       "      <td>...</td>\n",
       "      <td>1.0</td>\n",
       "      <td>-14.755493</td>\n",
       "      <td>-2.304893</td>\n",
       "      <td>-999.000000</td>\n",
       "      <td>0.0</td>\n",
       "      <td>1.0</td>\n",
       "      <td>-9.990000e+02</td>\n",
       "      <td>-0.967993</td>\n",
       "      <td>-18.450494</td>\n",
       "      <td>4</td>\n",
       "    </tr>\n",
       "    <tr>\n",
       "      <th>30045</th>\n",
       "      <td>5294.729989</td>\n",
       "      <td>12.0</td>\n",
       "      <td>-0.381504</td>\n",
       "      <td>1.0</td>\n",
       "      <td>1.0</td>\n",
       "      <td>3.2</td>\n",
       "      <td>-0.589851</td>\n",
       "      <td>-2.054347</td>\n",
       "      <td>1.0</td>\n",
       "      <td>-2.142670e+00</td>\n",
       "      <td>...</td>\n",
       "      <td>1.0</td>\n",
       "      <td>13.137106</td>\n",
       "      <td>-7.920494</td>\n",
       "      <td>2567.385966</td>\n",
       "      <td>1.0</td>\n",
       "      <td>1.0</td>\n",
       "      <td>7.569901e+01</td>\n",
       "      <td>-1.713094</td>\n",
       "      <td>13.416006</td>\n",
       "      <td>3</td>\n",
       "    </tr>\n",
       "    <tr>\n",
       "      <th>313784</th>\n",
       "      <td>4645.819821</td>\n",
       "      <td>17.0</td>\n",
       "      <td>-0.417099</td>\n",
       "      <td>1.0</td>\n",
       "      <td>1.0</td>\n",
       "      <td>3.2</td>\n",
       "      <td>0.649028</td>\n",
       "      <td>-8.301831</td>\n",
       "      <td>1.0</td>\n",
       "      <td>7.650223e-07</td>\n",
       "      <td>...</td>\n",
       "      <td>1.0</td>\n",
       "      <td>-22.006791</td>\n",
       "      <td>-24.447692</td>\n",
       "      <td>256.265351</td>\n",
       "      <td>0.0</td>\n",
       "      <td>1.0</td>\n",
       "      <td>1.919901e+00</td>\n",
       "      <td>-7.184691</td>\n",
       "      <td>-17.656691</td>\n",
       "      <td>1</td>\n",
       "    </tr>\n",
       "    <tr>\n",
       "      <th>100864</th>\n",
       "      <td>3100.629887</td>\n",
       "      <td>17.0</td>\n",
       "      <td>-0.553602</td>\n",
       "      <td>0.0</td>\n",
       "      <td>1.0</td>\n",
       "      <td>3.2</td>\n",
       "      <td>-2.723420</td>\n",
       "      <td>-12.468398</td>\n",
       "      <td>1.0</td>\n",
       "      <td>-1.438773e+00</td>\n",
       "      <td>...</td>\n",
       "      <td>1.0</td>\n",
       "      <td>0.807007</td>\n",
       "      <td>-50.220193</td>\n",
       "      <td>0.000011</td>\n",
       "      <td>0.0</td>\n",
       "      <td>1.0</td>\n",
       "      <td>-8.050605e-07</td>\n",
       "      <td>-9.541493</td>\n",
       "      <td>0.771707</td>\n",
       "      <td>2</td>\n",
       "    </tr>\n",
       "  </tbody>\n",
       "</table>\n",
       "<p>5 rows × 51 columns</p>\n",
       "</div>"
      ],
      "text/plain": [
       "              TrackP  TrackNDoFSubdetector2  BremDLLbeElectron  MuonLooseFlag  \\\n",
       "968874  12192.330089                   17.0          -0.170024            0.0   \n",
       "912808  40379.488299                    7.0        -999.000000            0.0   \n",
       "30045    5294.729989                   12.0          -0.381504            1.0   \n",
       "313784   4645.819821                   17.0          -0.417099            1.0   \n",
       "100864   3100.629887                   17.0          -0.553602            0.0   \n",
       "\n",
       "        FlagSpd   SpdE  EcalDLLbeElectron    DLLmuon  RICHpFlagElectron  \\\n",
       "968874      1.0    0.0          -1.831868  -0.996012                1.0   \n",
       "912808      0.0 -999.0        -999.000000  -0.792678                1.0   \n",
       "30045       1.0    3.2          -0.589851  -2.054347                1.0   \n",
       "313784      1.0    3.2           0.649028  -8.301831                1.0   \n",
       "100864      1.0    3.2          -2.723420 -12.468398                1.0   \n",
       "\n",
       "        EcalDLLbeMuon  ...    RICHpFlagMuon  RICH_DLLbeKaon  \\\n",
       "968874   5.017775e-01  ...              1.0      -19.783108   \n",
       "912808  -9.990000e+02  ...              1.0      -14.755493   \n",
       "30045   -2.142670e+00  ...              1.0       13.137106   \n",
       "313784   7.650223e-07  ...              1.0      -22.006791   \n",
       "100864  -1.438773e+00  ...              1.0        0.807007   \n",
       "\n",
       "        RICH_DLLbeElectron        HcalE  MuonFlag  FlagMuon          PrsE  \\\n",
       "968874           -6.720408  1914.190913       1.0       1.0  1.967353e-06   \n",
       "912808           -2.304893  -999.000000       0.0       1.0 -9.990000e+02   \n",
       "30045            -7.920494  2567.385966       1.0       1.0  7.569901e+01   \n",
       "313784          -24.447692   256.265351       0.0       1.0  1.919901e+00   \n",
       "100864          -50.220193     0.000011       0.0       1.0 -8.050605e-07   \n",
       "\n",
       "        RICH_DLLbeMuon  RICH_DLLbeProton  Class  \n",
       "968874       -2.804208        -25.041909      1  \n",
       "912808       -0.967993        -18.450494      4  \n",
       "30045        -1.713094         13.416006      3  \n",
       "313784       -7.184691        -17.656691      1  \n",
       "100864       -9.541493          0.771707      2  \n",
       "\n",
       "[5 rows x 51 columns]"
      ]
     },
     "execution_count": 9,
     "metadata": {},
     "output_type": "execute_result"
    }
   ],
   "source": [
    "training_data.head()"
   ]
  },
  {
   "cell_type": "code",
   "execution_count": 10,
   "metadata": {
    "scrolled": true
   },
   "outputs": [
    {
     "data": {
      "text/html": [
       "<div>\n",
       "<style scoped>\n",
       "    .dataframe tbody tr th:only-of-type {\n",
       "        vertical-align: middle;\n",
       "    }\n",
       "\n",
       "    .dataframe tbody tr th {\n",
       "        vertical-align: top;\n",
       "    }\n",
       "\n",
       "    .dataframe thead th {\n",
       "        text-align: right;\n",
       "    }\n",
       "</style>\n",
       "<table border=\"1\" class=\"dataframe\">\n",
       "  <thead>\n",
       "    <tr style=\"text-align: right;\">\n",
       "      <th></th>\n",
       "      <th>TrackNDoF</th>\n",
       "      <th>HcalE</th>\n",
       "      <th>MuonFlag</th>\n",
       "      <th>DLLkaon</th>\n",
       "      <th>FlagBrem</th>\n",
       "      <th>RICH_DLLbeMuon</th>\n",
       "      <th>TrackQualitySubdetector2</th>\n",
       "      <th>FlagHcal</th>\n",
       "      <th>RICH_DLLbeElectron</th>\n",
       "      <th>SpdE</th>\n",
       "      <th>...</th>\n",
       "      <th>GhostProbability</th>\n",
       "      <th>TrackQualityPerNDoF</th>\n",
       "      <th>TrackP</th>\n",
       "      <th>FlagMuon</th>\n",
       "      <th>TrackNDoFSubdetector1</th>\n",
       "      <th>FlagEcal</th>\n",
       "      <th>FlagRICH1</th>\n",
       "      <th>BremDLLbeElectron</th>\n",
       "      <th>TrackQualitySubdetector1</th>\n",
       "      <th>EcalE</th>\n",
       "    </tr>\n",
       "  </thead>\n",
       "  <tbody>\n",
       "    <tr>\n",
       "      <th>count</th>\n",
       "      <td>1.080000e+06</td>\n",
       "      <td>1.080000e+06</td>\n",
       "      <td>1.080000e+06</td>\n",
       "      <td>1.080000e+06</td>\n",
       "      <td>1.080000e+06</td>\n",
       "      <td>1.080000e+06</td>\n",
       "      <td>1.080000e+06</td>\n",
       "      <td>1.080000e+06</td>\n",
       "      <td>1.080000e+06</td>\n",
       "      <td>1.080000e+06</td>\n",
       "      <td>...</td>\n",
       "      <td>1.080000e+06</td>\n",
       "      <td>1.080000e+06</td>\n",
       "      <td>1.080000e+06</td>\n",
       "      <td>1.080000e+06</td>\n",
       "      <td>1.080000e+06</td>\n",
       "      <td>1.080000e+06</td>\n",
       "      <td>1.080000e+06</td>\n",
       "      <td>1.080000e+06</td>\n",
       "      <td>1.080000e+06</td>\n",
       "      <td>1.080000e+06</td>\n",
       "    </tr>\n",
       "    <tr>\n",
       "      <th>mean</th>\n",
       "      <td>2.942315e+01</td>\n",
       "      <td>2.898032e+03</td>\n",
       "      <td>1.662343e-01</td>\n",
       "      <td>-1.452442e+01</td>\n",
       "      <td>7.918694e-01</td>\n",
       "      <td>-4.926364e+01</td>\n",
       "      <td>1.609497e+01</td>\n",
       "      <td>7.646630e-01</td>\n",
       "      <td>-5.109546e+01</td>\n",
       "      <td>-1.445036e+02</td>\n",
       "      <td>...</td>\n",
       "      <td>5.513315e-02</td>\n",
       "      <td>1.282943e+00</td>\n",
       "      <td>1.613264e+04</td>\n",
       "      <td>8.207509e-01</td>\n",
       "      <td>6.198936e+00</td>\n",
       "      <td>8.175639e-01</td>\n",
       "      <td>8.325130e-01</td>\n",
       "      <td>-2.076723e+02</td>\n",
       "      <td>6.851082e+00</td>\n",
       "      <td>2.346141e+03</td>\n",
       "    </tr>\n",
       "    <tr>\n",
       "      <th>std</th>\n",
       "      <td>6.026995e+00</td>\n",
       "      <td>7.656111e+03</td>\n",
       "      <td>3.722910e-01</td>\n",
       "      <td>1.074946e+02</td>\n",
       "      <td>4.059709e-01</td>\n",
       "      <td>2.148977e+02</td>\n",
       "      <td>7.769702e+00</td>\n",
       "      <td>4.242095e-01</td>\n",
       "      <td>2.152222e+02</td>\n",
       "      <td>3.546216e+02</td>\n",
       "      <td>...</td>\n",
       "      <td>9.242857e-02</td>\n",
       "      <td>6.270840e-01</td>\n",
       "      <td>2.753921e+04</td>\n",
       "      <td>3.835609e-01</td>\n",
       "      <td>3.115005e+00</td>\n",
       "      <td>3.862037e-01</td>\n",
       "      <td>3.734103e-01</td>\n",
       "      <td>4.054207e+02</td>\n",
       "      <td>5.071566e+00</td>\n",
       "      <td>5.709488e+03</td>\n",
       "    </tr>\n",
       "    <tr>\n",
       "      <th>min</th>\n",
       "      <td>7.000000e+00</td>\n",
       "      <td>-9.990000e+02</td>\n",
       "      <td>0.000000e+00</td>\n",
       "      <td>-9.990000e+02</td>\n",
       "      <td>0.000000e+00</td>\n",
       "      <td>-9.990000e+02</td>\n",
       "      <td>3.229625e-04</td>\n",
       "      <td>0.000000e+00</td>\n",
       "      <td>-9.990000e+02</td>\n",
       "      <td>-9.990000e+02</td>\n",
       "      <td>...</td>\n",
       "      <td>1.456686e-03</td>\n",
       "      <td>4.504852e-02</td>\n",
       "      <td>1.115380e+03</td>\n",
       "      <td>0.000000e+00</td>\n",
       "      <td>1.000000e+00</td>\n",
       "      <td>0.000000e+00</td>\n",
       "      <td>0.000000e+00</td>\n",
       "      <td>-9.990000e+02</td>\n",
       "      <td>9.406193e-06</td>\n",
       "      <td>-9.990000e+02</td>\n",
       "    </tr>\n",
       "    <tr>\n",
       "      <th>25%</th>\n",
       "      <td>2.600000e+01</td>\n",
       "      <td>-1.446553e-05</td>\n",
       "      <td>0.000000e+00</td>\n",
       "      <td>-1.069791e+01</td>\n",
       "      <td>1.000000e+00</td>\n",
       "      <td>-4.503437e+00</td>\n",
       "      <td>1.071093e+01</td>\n",
       "      <td>1.000000e+00</td>\n",
       "      <td>-1.309732e+01</td>\n",
       "      <td>0.000000e+00</td>\n",
       "      <td>...</td>\n",
       "      <td>3.852832e-03</td>\n",
       "      <td>8.856753e-01</td>\n",
       "      <td>4.135297e+03</td>\n",
       "      <td>1.000000e+00</td>\n",
       "      <td>4.000000e+00</td>\n",
       "      <td>1.000000e+00</td>\n",
       "      <td>1.000000e+00</td>\n",
       "      <td>-6.250978e-01</td>\n",
       "      <td>3.080789e+00</td>\n",
       "      <td>-3.348990e-06</td>\n",
       "    </tr>\n",
       "    <tr>\n",
       "      <th>50%</th>\n",
       "      <td>3.000000e+01</td>\n",
       "      <td>5.772029e+02</td>\n",
       "      <td>0.000000e+00</td>\n",
       "      <td>2.762477e-06</td>\n",
       "      <td>1.000000e+00</td>\n",
       "      <td>-4.692121e-01</td>\n",
       "      <td>1.524483e+01</td>\n",
       "      <td>1.000000e+00</td>\n",
       "      <td>-2.355985e+00</td>\n",
       "      <td>3.200000e+00</td>\n",
       "      <td>...</td>\n",
       "      <td>9.668268e-03</td>\n",
       "      <td>1.106393e+00</td>\n",
       "      <td>8.064075e+03</td>\n",
       "      <td>1.000000e+00</td>\n",
       "      <td>6.000000e+00</td>\n",
       "      <td>1.000000e+00</td>\n",
       "      <td>1.000000e+00</td>\n",
       "      <td>-5.329020e-01</td>\n",
       "      <td>5.845922e+00</td>\n",
       "      <td>6.599040e+02</td>\n",
       "    </tr>\n",
       "    <tr>\n",
       "      <th>75%</th>\n",
       "      <td>3.400000e+01</td>\n",
       "      <td>3.047605e+03</td>\n",
       "      <td>0.000000e+00</td>\n",
       "      <td>8.460730e+00</td>\n",
       "      <td>1.000000e+00</td>\n",
       "      <td>1.300734e+00</td>\n",
       "      <td>2.041093e+01</td>\n",
       "      <td>1.000000e+00</td>\n",
       "      <td>1.672999e+00</td>\n",
       "      <td>3.200000e+00</td>\n",
       "      <td>...</td>\n",
       "      <td>5.510186e-02</td>\n",
       "      <td>1.448324e+00</td>\n",
       "      <td>1.749550e+04</td>\n",
       "      <td>1.000000e+00</td>\n",
       "      <td>8.000000e+00</td>\n",
       "      <td>1.000000e+00</td>\n",
       "      <td>1.000000e+00</td>\n",
       "      <td>-5.933648e-02</td>\n",
       "      <td>9.508951e+00</td>\n",
       "      <td>3.001512e+03</td>\n",
       "    </tr>\n",
       "    <tr>\n",
       "      <th>max</th>\n",
       "      <td>5.200000e+01</td>\n",
       "      <td>7.985253e+05</td>\n",
       "      <td>1.000000e+00</td>\n",
       "      <td>1.681698e+02</td>\n",
       "      <td>1.000000e+00</td>\n",
       "      <td>1.428335e+02</td>\n",
       "      <td>1.048634e+02</td>\n",
       "      <td>1.000000e+00</td>\n",
       "      <td>1.861542e+02</td>\n",
       "      <td>3.200000e+00</td>\n",
       "      <td>...</td>\n",
       "      <td>4.000019e-01</td>\n",
       "      <td>3.999967e+00</td>\n",
       "      <td>4.673862e+06</td>\n",
       "      <td>1.000000e+00</td>\n",
       "      <td>2.400000e+01</td>\n",
       "      <td>1.000000e+00</td>\n",
       "      <td>1.000000e+00</td>\n",
       "      <td>4.791513e+00</td>\n",
       "      <td>9.914788e+01</td>\n",
       "      <td>3.156805e+05</td>\n",
       "    </tr>\n",
       "  </tbody>\n",
       "</table>\n",
       "<p>8 rows × 49 columns</p>\n",
       "</div>"
      ],
      "text/plain": [
       "          TrackNDoF         HcalE      MuonFlag       DLLkaon      FlagBrem  \\\n",
       "count  1.080000e+06  1.080000e+06  1.080000e+06  1.080000e+06  1.080000e+06   \n",
       "mean   2.942315e+01  2.898032e+03  1.662343e-01 -1.452442e+01  7.918694e-01   \n",
       "std    6.026995e+00  7.656111e+03  3.722910e-01  1.074946e+02  4.059709e-01   \n",
       "min    7.000000e+00 -9.990000e+02  0.000000e+00 -9.990000e+02  0.000000e+00   \n",
       "25%    2.600000e+01 -1.446553e-05  0.000000e+00 -1.069791e+01  1.000000e+00   \n",
       "50%    3.000000e+01  5.772029e+02  0.000000e+00  2.762477e-06  1.000000e+00   \n",
       "75%    3.400000e+01  3.047605e+03  0.000000e+00  8.460730e+00  1.000000e+00   \n",
       "max    5.200000e+01  7.985253e+05  1.000000e+00  1.681698e+02  1.000000e+00   \n",
       "\n",
       "       RICH_DLLbeMuon  TrackQualitySubdetector2      FlagHcal  \\\n",
       "count    1.080000e+06              1.080000e+06  1.080000e+06   \n",
       "mean    -4.926364e+01              1.609497e+01  7.646630e-01   \n",
       "std      2.148977e+02              7.769702e+00  4.242095e-01   \n",
       "min     -9.990000e+02              3.229625e-04  0.000000e+00   \n",
       "25%     -4.503437e+00              1.071093e+01  1.000000e+00   \n",
       "50%     -4.692121e-01              1.524483e+01  1.000000e+00   \n",
       "75%      1.300734e+00              2.041093e+01  1.000000e+00   \n",
       "max      1.428335e+02              1.048634e+02  1.000000e+00   \n",
       "\n",
       "       RICH_DLLbeElectron          SpdE      ...       GhostProbability  \\\n",
       "count        1.080000e+06  1.080000e+06      ...           1.080000e+06   \n",
       "mean        -5.109546e+01 -1.445036e+02      ...           5.513315e-02   \n",
       "std          2.152222e+02  3.546216e+02      ...           9.242857e-02   \n",
       "min         -9.990000e+02 -9.990000e+02      ...           1.456686e-03   \n",
       "25%         -1.309732e+01  0.000000e+00      ...           3.852832e-03   \n",
       "50%         -2.355985e+00  3.200000e+00      ...           9.668268e-03   \n",
       "75%          1.672999e+00  3.200000e+00      ...           5.510186e-02   \n",
       "max          1.861542e+02  3.200000e+00      ...           4.000019e-01   \n",
       "\n",
       "       TrackQualityPerNDoF        TrackP      FlagMuon  TrackNDoFSubdetector1  \\\n",
       "count         1.080000e+06  1.080000e+06  1.080000e+06           1.080000e+06   \n",
       "mean          1.282943e+00  1.613264e+04  8.207509e-01           6.198936e+00   \n",
       "std           6.270840e-01  2.753921e+04  3.835609e-01           3.115005e+00   \n",
       "min           4.504852e-02  1.115380e+03  0.000000e+00           1.000000e+00   \n",
       "25%           8.856753e-01  4.135297e+03  1.000000e+00           4.000000e+00   \n",
       "50%           1.106393e+00  8.064075e+03  1.000000e+00           6.000000e+00   \n",
       "75%           1.448324e+00  1.749550e+04  1.000000e+00           8.000000e+00   \n",
       "max           3.999967e+00  4.673862e+06  1.000000e+00           2.400000e+01   \n",
       "\n",
       "           FlagEcal     FlagRICH1  BremDLLbeElectron  \\\n",
       "count  1.080000e+06  1.080000e+06       1.080000e+06   \n",
       "mean   8.175639e-01  8.325130e-01      -2.076723e+02   \n",
       "std    3.862037e-01  3.734103e-01       4.054207e+02   \n",
       "min    0.000000e+00  0.000000e+00      -9.990000e+02   \n",
       "25%    1.000000e+00  1.000000e+00      -6.250978e-01   \n",
       "50%    1.000000e+00  1.000000e+00      -5.329020e-01   \n",
       "75%    1.000000e+00  1.000000e+00      -5.933648e-02   \n",
       "max    1.000000e+00  1.000000e+00       4.791513e+00   \n",
       "\n",
       "       TrackQualitySubdetector1         EcalE  \n",
       "count              1.080000e+06  1.080000e+06  \n",
       "mean               6.851082e+00  2.346141e+03  \n",
       "std                5.071566e+00  5.709488e+03  \n",
       "min                9.406193e-06 -9.990000e+02  \n",
       "25%                3.080789e+00 -3.348990e-06  \n",
       "50%                5.845922e+00  6.599040e+02  \n",
       "75%                9.508951e+00  3.001512e+03  \n",
       "max                9.914788e+01  3.156805e+05  \n",
       "\n",
       "[8 rows x 49 columns]"
      ]
     },
     "execution_count": 10,
     "metadata": {},
     "output_type": "execute_result"
    }
   ],
   "source": [
    "training_data[features].describe()"
   ]
  },
  {
   "cell_type": "code",
   "execution_count": 11,
   "metadata": {},
   "outputs": [
    {
     "data": {
      "text/plain": [
       "False"
      ]
     },
     "execution_count": 11,
     "metadata": {},
     "output_type": "execute_result"
    }
   ],
   "source": [
    "training_data[features].isnull().any().any()"
   ]
  },
  {
   "cell_type": "code",
   "execution_count": 12,
   "metadata": {},
   "outputs": [],
   "source": [
    "from sklearn.preprocessing import StandardScaler\n",
    "scaler = StandardScaler()\n",
    "training_scale = scaler.fit_transform(training_data[features].values)"
   ]
  },
  {
   "cell_type": "code",
   "execution_count": 13,
   "metadata": {},
   "outputs": [],
   "source": [
    "validation_scale = scaler.transform(validation_data[features].values)"
   ]
  },
  {
   "cell_type": "markdown",
   "metadata": {},
   "source": [
    "# Sklearn classifier\n",
    "\n",
    "On this step your task is to train **Sklearn** classifier to provide lower **log loss** value.\n",
    "\n",
    "\n",
    "TASK: your task is to tune the classifier parameters to achieve the lowest **log loss** value on the validation sample you can."
   ]
  },
  {
   "cell_type": "code",
   "execution_count": 14,
   "metadata": {},
   "outputs": [],
   "source": [
    "from sklearn.ensemble import GradientBoostingClassifier"
   ]
  },
  {
   "cell_type": "code",
   "execution_count": 15,
   "metadata": {},
   "outputs": [
    {
     "name": "stdout",
     "output_type": "stream",
     "text": [
      "Wall time: 22min\n"
     ]
    }
   ],
   "source": [
    "%%time \n",
    "gb = GradientBoostingClassifier(learning_rate=0.1, n_estimators=50, subsample=0.8, random_state=13,\n",
    "                                min_samples_leaf=1, max_depth=3)\n",
    "gb.fit(training_scale, training_data.Class.values)"
   ]
  },
  {
   "cell_type": "markdown",
   "metadata": {},
   "source": [
    "### Log loss on the cross validation sample"
   ]
  },
  {
   "cell_type": "code",
   "execution_count": 16,
   "metadata": {},
   "outputs": [],
   "source": [
    "# predict each track\n",
    "proba_gb = gb.predict_proba(validation_scale)"
   ]
  },
  {
   "cell_type": "code",
   "execution_count": 17,
   "metadata": {},
   "outputs": [
    {
     "data": {
      "text/plain": [
       "0.6670030859005405"
      ]
     },
     "execution_count": 17,
     "metadata": {},
     "output_type": "execute_result"
    }
   ],
   "source": [
    "log_loss(validation_data.Class.values, proba_gb)"
   ]
  },
  {
   "cell_type": "markdown",
   "metadata": {},
   "source": [
    "# Keras neural network\n",
    "\n",
    "On this step your task is to train **Keras** NN classifier to provide lower **log loss** value.\n",
    "\n",
    "\n",
    "TASK: your task is to tune the classifier parameters to achieve the lowest **log loss** value on the validation sample you can. Data preprocessing may help you to improve your score."
   ]
  },
  {
   "cell_type": "code",
   "execution_count": 54,
   "metadata": {},
   "outputs": [],
   "source": [
    "from keras.layers.core import Dense, Activation\n",
    "from keras.models import Sequential\n",
    "from keras.optimizers import Adam\n",
    "from keras.utils import np_utils\n",
    "from keras.callbacks import EarlyStopping, ModelCheckpoint"
   ]
  },
  {
   "cell_type": "code",
   "execution_count": 55,
   "metadata": {},
   "outputs": [],
   "source": [
    "def nn_model(input_dim):\n",
    "    model = Sequential()\n",
    "    model.add(Dense(100, input_dim=input_dim))\n",
    "    model.add(Activation('relu'))\n",
    "    \n",
    "    model.add(Dense(50))\n",
    "    model.add(Activation('relu'))\n",
    "\n",
    "    model.add(Dense(6))\n",
    "    model.add(Activation('softmax'))\n",
    "\n",
    "    model.compile(loss='categorical_crossentropy', optimizer=Adam())\n",
    "    return model"
   ]
  },
  {
   "cell_type": "code",
   "execution_count": 60,
   "metadata": {},
   "outputs": [],
   "source": [
    "callback = [EarlyStopping(monitor='val_loss', min_delta=0, patience=4, verbose=0, mode='auto'),\n",
    "            ModelCheckpoint('output/{val_loss:.4f}.hdf5', monitor='val_loss', verbose=1, save_best_only=True, mode='auto')]"
   ]
  },
  {
   "cell_type": "code",
   "execution_count": 62,
   "metadata": {},
   "outputs": [
    {
     "name": "stdout",
     "output_type": "stream",
     "text": [
      "Train on 1080000 samples, validate on 120000 samples\n",
      "Epoch 1/50\n",
      "1080000/1080000 [==============================] - 12s 11us/step - loss: 0.7070 - val_loss: 0.6224\n",
      "\n",
      "Epoch 00001: val_loss improved from 0.63063 to 0.62237, saving model to output/0.6224.hdf5\n",
      "Epoch 2/50\n",
      "1080000/1080000 [==============================] - 12s 11us/step - loss: 0.6170 - val_loss: 0.6075\n",
      "\n",
      "Epoch 00002: val_loss improved from 0.62237 to 0.60745, saving model to output/0.6075.hdf5\n",
      "Epoch 3/50\n",
      "1080000/1080000 [==============================] - 12s 11us/step - loss: 0.6038 - val_loss: 0.5977\n",
      "\n",
      "Epoch 00003: val_loss improved from 0.60745 to 0.59774, saving model to output/0.5977.hdf5\n",
      "Epoch 4/50\n",
      "1080000/1080000 [==============================] - 12s 11us/step - loss: 0.5972 - val_loss: 0.5917\n",
      "\n",
      "Epoch 00004: val_loss improved from 0.59774 to 0.59168, saving model to output/0.5917.hdf5\n",
      "Epoch 5/50\n",
      "1080000/1080000 [==============================] - 12s 11us/step - loss: 0.5923 - val_loss: 0.5904\n",
      "\n",
      "Epoch 00005: val_loss improved from 0.59168 to 0.59038, saving model to output/0.5904.hdf5\n",
      "Epoch 6/50\n",
      "1080000/1080000 [==============================] - 12s 11us/step - loss: 0.5882 - val_loss: 0.5863\n",
      "\n",
      "Epoch 00006: val_loss improved from 0.59038 to 0.58633, saving model to output/0.5863.hdf5\n",
      "Epoch 7/50\n",
      "1080000/1080000 [==============================] - 12s 11us/step - loss: 0.5845 - val_loss: 0.5841\n",
      "\n",
      "Epoch 00007: val_loss improved from 0.58633 to 0.58408, saving model to output/0.5841.hdf5\n",
      "Epoch 8/50\n",
      "1080000/1080000 [==============================] - 12s 11us/step - loss: 0.5823 - val_loss: 0.5828\n",
      "\n",
      "Epoch 00008: val_loss improved from 0.58408 to 0.58282, saving model to output/0.5828.hdf5\n",
      "Epoch 9/50\n",
      "1080000/1080000 [==============================] - 12s 11us/step - loss: 0.5798 - val_loss: 0.5835\n",
      "\n",
      "Epoch 00009: val_loss did not improve from 0.58282\n",
      "Epoch 10/50\n",
      "1080000/1080000 [==============================] - 12s 11us/step - loss: 0.5786 - val_loss: 0.5775\n",
      "\n",
      "Epoch 00010: val_loss improved from 0.58282 to 0.57750, saving model to output/0.5775.hdf5\n",
      "Epoch 11/50\n",
      "1080000/1080000 [==============================] - 12s 11us/step - loss: 0.5765 - val_loss: 0.5796\n",
      "\n",
      "Epoch 00011: val_loss did not improve from 0.57750\n",
      "Epoch 12/50\n",
      "1080000/1080000 [==============================] - 12s 11us/step - loss: 0.5755 - val_loss: 0.5769\n",
      "\n",
      "Epoch 00012: val_loss improved from 0.57750 to 0.57690, saving model to output/0.5769.hdf5\n",
      "Epoch 13/50\n",
      "1080000/1080000 [==============================] - 12s 11us/step - loss: 0.5741 - val_loss: 0.5754\n",
      "\n",
      "Epoch 00013: val_loss improved from 0.57690 to 0.57543, saving model to output/0.5754.hdf5\n",
      "Epoch 14/50\n",
      "1080000/1080000 [==============================] - 12s 11us/step - loss: 0.5732 - val_loss: 0.5772\n",
      "\n",
      "Epoch 00014: val_loss did not improve from 0.57543\n",
      "Epoch 15/50\n",
      "1080000/1080000 [==============================] - 12s 11us/step - loss: 0.5723 - val_loss: 0.5740\n",
      "\n",
      "Epoch 00015: val_loss improved from 0.57543 to 0.57403, saving model to output/0.5740.hdf5\n",
      "Epoch 16/50\n",
      "1080000/1080000 [==============================] - 12s 11us/step - loss: 0.5716 - val_loss: 0.5724\n",
      "\n",
      "Epoch 00016: val_loss improved from 0.57403 to 0.57244, saving model to output/0.5724.hdf5\n",
      "Epoch 17/50\n",
      "1080000/1080000 [==============================] - 11s 11us/step - loss: 0.5706 - val_loss: 0.5718\n",
      "\n",
      "Epoch 00017: val_loss improved from 0.57244 to 0.57181, saving model to output/0.5718.hdf5\n",
      "Epoch 18/50\n",
      "1080000/1080000 [==============================] - 11s 11us/step - loss: 0.5698 - val_loss: 0.5743\n",
      "\n",
      "Epoch 00018: val_loss did not improve from 0.57181\n",
      "Epoch 19/50\n",
      "1080000/1080000 [==============================] - 11s 11us/step - loss: 0.5693 - val_loss: 0.5699\n",
      "\n",
      "Epoch 00019: val_loss improved from 0.57181 to 0.56993, saving model to output/0.5699.hdf5\n",
      "Epoch 20/50\n",
      "1080000/1080000 [==============================] - 12s 11us/step - loss: 0.5687 - val_loss: 0.5703\n",
      "\n",
      "Epoch 00020: val_loss did not improve from 0.56993\n",
      "Epoch 21/50\n",
      "1080000/1080000 [==============================] - 12s 11us/step - loss: 0.5678 - val_loss: 0.5701\n",
      "\n",
      "Epoch 00021: val_loss did not improve from 0.56993\n",
      "Epoch 22/50\n",
      "1080000/1080000 [==============================] - 12s 11us/step - loss: 0.5677 - val_loss: 0.5722\n",
      "\n",
      "Epoch 00022: val_loss did not improve from 0.56993\n",
      "Epoch 23/50\n",
      "1080000/1080000 [==============================] - 12s 11us/step - loss: 0.5672 - val_loss: 0.5680\n",
      "\n",
      "Epoch 00023: val_loss improved from 0.56993 to 0.56801, saving model to output/0.5680.hdf5\n",
      "Epoch 24/50\n",
      "1080000/1080000 [==============================] - 12s 11us/step - loss: 0.5664 - val_loss: 0.5718\n",
      "\n",
      "Epoch 00024: val_loss did not improve from 0.56801\n",
      "Epoch 25/50\n",
      "1080000/1080000 [==============================] - 12s 11us/step - loss: 0.5662 - val_loss: 0.5692\n",
      "\n",
      "Epoch 00025: val_loss did not improve from 0.56801\n",
      "Epoch 26/50\n",
      "1080000/1080000 [==============================] - 12s 11us/step - loss: 0.5658 - val_loss: 0.5696\n",
      "\n",
      "Epoch 00026: val_loss did not improve from 0.56801\n",
      "Epoch 27/50\n",
      "1080000/1080000 [==============================] - 12s 11us/step - loss: 0.5654 - val_loss: 0.5687\n",
      "\n",
      "Epoch 00027: val_loss did not improve from 0.56801\n"
     ]
    },
    {
     "data": {
      "text/plain": [
       "<keras.callbacks.History at 0x18827cb7320>"
      ]
     },
     "execution_count": 62,
     "metadata": {},
     "output_type": "execute_result"
    }
   ],
   "source": [
    "nn = nn_model(len(features))\n",
    "nn.fit(training_scale, np_utils.to_categorical(training_data.Class.values),\n",
    "       validation_data=(validation_scale, np_utils.to_categorical(validation_data.Class.values)),\n",
    "       epochs=50, verbose=1, batch_size=256, callbacks=callback)"
   ]
  },
  {
   "cell_type": "code",
   "execution_count": 63,
   "metadata": {},
   "outputs": [],
   "source": [
    "nn.load_weights('output/0.5680.hdf5')"
   ]
  },
  {
   "cell_type": "markdown",
   "metadata": {},
   "source": [
    "### Log loss on the cross validation sample"
   ]
  },
  {
   "cell_type": "code",
   "execution_count": 64,
   "metadata": {},
   "outputs": [],
   "source": [
    "# predict each track\n",
    "proba_nn = nn.predict_proba(validation_scale)"
   ]
  },
  {
   "cell_type": "code",
   "execution_count": 65,
   "metadata": {},
   "outputs": [
    {
     "data": {
      "text/plain": [
       "0.5681154022580016"
      ]
     },
     "execution_count": 65,
     "metadata": {},
     "output_type": "execute_result"
    }
   ],
   "source": [
    "log_loss(validation_data.Class.values, proba_nn)"
   ]
  },
  {
   "cell_type": "markdown",
   "metadata": {},
   "source": [
    "# Quality metrics\n",
    "\n",
    "Plot ROC curves and signal efficiency dependece from particle mometum and transverse momentum values."
   ]
  },
  {
   "cell_type": "code",
   "execution_count": 66,
   "metadata": {},
   "outputs": [],
   "source": [
    "proba = proba_nn"
   ]
  },
  {
   "cell_type": "code",
   "execution_count": 67,
   "metadata": {},
   "outputs": [
    {
     "data": {
      "image/png": "[encoded data removed]",
      "text/plain": [
       "<Figure size 648x432 with 1 Axes>"
      ]
     },
     "metadata": {},
     "output_type": "display_data"
    }
   ],
   "source": [
    "utils.plot_roc_curves(proba, validation_data.Class.values)"
   ]
  },
  {
   "cell_type": "code",
   "execution_count": 68,
   "metadata": {},
   "outputs": [
    {
     "data": {
      "image/png": "[encoded data removed]",
      "text/plain": [
       "<Figure size 792x756 with 6 Axes>"
      ]
     },
     "metadata": {},
     "output_type": "display_data"
    }
   ],
   "source": [
    "utils.plot_signal_efficiency_on_p(proba, validation_data.Class.values, validation_data.TrackP.values, 60, 50)\n",
    "plt.show()"
   ]
  },
  {
   "cell_type": "code",
   "execution_count": 69,
   "metadata": {},
   "outputs": [
    {
     "data": {
      "image/png": "[encoded data removed]",
      "text/plain": [
       "<Figure size 792x756 with 6 Axes>"
      ]
     },
     "metadata": {},
     "output_type": "display_data"
    }
   ],
   "source": [
    "utils.plot_signal_efficiency_on_pt(proba, validation_data.Class.values, validation_data.TrackPt.values, 60, 50)\n",
    "plt.show()"
   ]
  },
  {
   "cell_type": "markdown",
   "metadata": {},
   "source": [
    "# Prepare submission\n",
    "\n",
    "Select your best classifier and prepare submission file."
   ]
  },
  {
   "cell_type": "code",
   "execution_count": 70,
   "metadata": {},
   "outputs": [],
   "source": [
    "test = pandas.read_csv('test.csv.gz')"
   ]
  },
  {
   "cell_type": "code",
   "execution_count": 71,
   "metadata": {},
   "outputs": [],
   "source": [
    "best_model = nn"
   ]
  },
  {
   "cell_type": "code",
   "execution_count": 72,
   "metadata": {},
   "outputs": [],
   "source": [
    "test_scale = scaler.transform(test[features])"
   ]
  },
  {
   "cell_type": "code",
   "execution_count": 73,
   "metadata": {},
   "outputs": [],
   "source": [
    "# predict test sample\n",
    "submit_proba = best_model.predict_proba(test_scale)\n",
    "submit_ids = test.ID"
   ]
  },
  {
   "cell_type": "code",
   "execution_count": 74,
   "metadata": {},
   "outputs": [
    {
     "data": {
      "text/html": [
       "<a href='submission_file.csv.gz' target='_blank'>submission_file.csv.gz</a><br>"
      ],
      "text/plain": [
       "E:\\GitHub\\Advanced-Machine-Learning-Specialization\\Addressing Large Hadron Collider Challenges by Machine Learning\\Week2\\submission_file.csv.gz"
      ]
     },
     "execution_count": 74,
     "metadata": {},
     "output_type": "execute_result"
    }
   ],
   "source": [
    "from IPython.display import FileLink\n",
    "utils.create_solution(submit_ids, submit_proba, filename='submission_file.csv.gz')"
   ]
  },
  {
   "cell_type": "code",
   "execution_count": null,
   "metadata": {},
   "outputs": [],
   "source": []
  }
 ],
 "metadata": {
  "kernelspec": {
   "display_name": "Python 3",
   "language": "python",
   "name": "python3"
  },
  "language_info": {
   "codemirror_mode": {
    "name": "ipython",
    "version": 3
   },
   "file_extension": ".py",
   "mimetype": "text/x-python",
   "name": "python",
   "nbconvert_exporter": "python",
   "pygments_lexer": "ipython3",
   "version": "3.6.8"
  }
 },
 "nbformat": 4,
 "nbformat_minor": 1
}
